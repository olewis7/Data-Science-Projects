{
 "cells": [
  {
   "cell_type": "markdown",
   "metadata": {},
   "source": [
    "# Using two approaches to solve the question."
   ]
  },
  {
   "cell_type": "markdown",
   "metadata": {},
   "source": [
    "#### Approach Decisions\n",
    " - After examining the size of the datasets I decided to go with these 2 approaches among numerous other approaches.  I briefly also considered uploading the data into a HIVE table but then decided that I'd rather use Sqlite since the dataset size was small. Although in real world scenarios we could easily have written the data to an S3 location after processing instead of to a SqlLite table.\n",
    " - This sort of flat data could also be stored in a MongoDB database after using jsonify libraries to process the Unix MBox file. \n",
    " - I decided to use Pandas for all the data processing so I went with this approach.\n",
    " - Currently running on an Anaconda distro of Python."
   ]
  },
  {
   "cell_type": "code",
   "execution_count": 6,
   "metadata": {
    "collapsed": true
   },
   "outputs": [],
   "source": [
    "import operator\n",
    "import pandas as pd\n",
    "import email\n",
    "import os\n",
    "from time import strftime\n",
    "from functools import partial\n",
    "from sqlalchemy import create_engine\n",
    "\n",
    "import time\n",
    "from dateutil.parser import parse"
   ]
  },
  {
   "cell_type": "markdown",
   "metadata": {},
   "source": [
    "Return email as \"direct\" if there is exactly one recipient and \"broadcast\" if it has multiple recipients."
   ]
  },
  {
   "cell_type": "code",
   "execution_count": 13,
   "metadata": {
    "collapsed": true
   },
   "outputs": [],
   "source": [
    "def helper_email_categorize(email_line):\n",
    "    if email_line is not None:\n",
    "        email_line_list = email_line.split(\"|\")\n",
    "        email_line_list = filter(lambda k: k != \"None\", email_line_list)\n",
    "        if len(email_line_list) > 1:\n",
    "            return 'broadcast'\n",
    "        elif len(email_line_list) == 1:\n",
    "            return 'direct'\n",
    "        else:\n",
    "            return None"
   ]
  },
  {
   "cell_type": "markdown",
   "metadata": {},
   "source": [
    "Removes prefixes like 'FW:' and 'Re:' in the subject of an email."
   ]
  },
  {
   "cell_type": "code",
   "execution_count": 14,
   "metadata": {
    "collapsed": true
   },
   "outputs": [],
   "source": [
    "def helper_remove_subject_prefixes(subject_line, remove_prefix_list=None):\n",
    "    while subject_line is not None and subject_line[:3] in remove_prefix_list:\n",
    "        subject_line = subject_line[4:]\n",
    "    return subject_line"
   ]
  },
  {
   "cell_type": "markdown",
   "metadata": {},
   "source": [
    "** creating sqlite connection with database name. **"
   ]
  },
  {
   "cell_type": "code",
   "execution_count": 15,
   "metadata": {
    "collapsed": true
   },
   "outputs": [],
   "source": [
    "disk_engine = create_engine('sqlite:///slack.db')"
   ]
  },
  {
   "cell_type": "code",
   "execution_count": 70,
   "metadata": {
    "collapsed": false
   },
   "outputs": [],
   "source": [
    "all_dir_files = [[os.path.join(root, file_name) for file_name in file_names if \".cats\" not in file_name] for\n",
    "                     (root, dirs, file_names) in\n",
    "                     os.walk('enron_with_categories') if\n",
    "                     len(file_names) > 0]\n",
    "total_files_processed = 0\n",
    "disk_engine.execute('DROP TABLE IF EXISTS processed_data;')\n",
    "\n",
    "remove_content_function = partial(helper_remove_subject_prefixes, remove_prefix_list=['Re:', 'RE:'])"
   ]
  },
  {
   "cell_type": "markdown",
   "metadata": {},
   "source": [
    "Applying preprocessing for the following fields. Date is parsed using dateutil.parser"
   ]
  },
  {
   "cell_type": "code",
   "execution_count": 71,
   "metadata": {
    "collapsed": false
   },
   "outputs": [
    {
     "name": "stdout",
     "output_type": "stream",
     "text": [
      "Completed 143 email rows in: 0.147023 secs.\n",
      "Completed 21 email rows in: 0.051647 secs.\n",
      "Completed 74 email rows in: 0.094396 secs.\n",
      "Completed 476 email rows in: 0.358272 secs.\n",
      "Completed 18 email rows in: 0.043392 secs.\n",
      "Completed 834 email rows in: 0.826454 secs.\n",
      "Completed 36 email rows in: 0.041453 secs.\n",
      "Completed 100 email rows in: 0.100702 secs.\n",
      "Total files processed 1702 in 1.66605 secs. \n"
     ]
    }
   ],
   "source": [
    "initial_time = time.clock()\n",
    "for files in all_dir_files:\n",
    "    t = time.clock()\n",
    "    email_files = map(lambda k: email.message_from_file(open(k, 'r')), files)\n",
    "    df = pd.DataFrame([[email_m['Message-ID'], email_m['To'], email_m['From'], email_m['Cc'], email_m['Bcc'],\n",
    "                        email_m['Date'], email_m['Subject']] for email_m in email_files],\n",
    "                      columns=[\"Message-ID\", \"To\", \"From\", \"Cc\", \"Bcc\", 'Date', 'Subject'])\n",
    "\n",
    "    df['To'] = df['To'].map(lambda k: k if k is not None else \"None\")\n",
    "    df['Cc'] = df['Cc'].map(lambda k: k if k is not None else \"None\")\n",
    "    df['Bcc'] = df['Bcc'].map(lambda k: k if k is not None else \"None\")\n",
    "    df['Date'] = df['Date'].map(lambda k: strftime(\"%Y-%m-%d %H:%M:%S\", (parse(k).timetuple())))\n",
    "    df['Day'] = df['Date'].map(lambda k: k.split(\" \")[0])\n",
    "    df['effective_to'] = df[['To', 'Cc', 'Bcc']].values.tolist()\n",
    "    df['effective_to'] = df['effective_to'].map(lambda k: \"|\".join(k))\n",
    "    df['message_type'] = df['effective_to'].map(helper_email_categorize)\n",
    "    df['Subject'] = df['Subject'].map(remove_content_function)\n",
    "\n",
    "    df.to_sql('processed_data', disk_engine, if_exists='append')\n",
    "    print \"Completed {} email rows in: {} secs.\".format(len(files), (time.clock() - t))\n",
    "    total_files_processed += len(files)\n",
    "\n",
    "print \"Total files processed {} in {} secs. \".format(total_files_processed, time.clock()-initial_time)"
   ]
  },
  {
   "cell_type": "markdown",
   "metadata": {},
   "source": [
    "## Starting question 1"
   ]
  },
  {
   "cell_type": "markdown",
   "metadata": {},
   "source": [
    "### Approach 1\n",
    "- Read everything into a pandas df."
   ]
  },
  {
   "cell_type": "code",
   "execution_count": 62,
   "metadata": {
    "collapsed": true
   },
   "outputs": [],
   "source": [
    "df = pd.read_sql_query('SELECT * FROM processed_data', disk_engine)"
   ]
  },
  {
   "cell_type": "code",
   "execution_count": 63,
   "metadata": {
    "collapsed": false
   },
   "outputs": [
    {
     "name": "stdout",
     "output_type": "stream",
     "text": [
      "                                  No of emails received\n",
      "From                  Day                              \n",
      "40enron@enron.com     2001-08-02                      1\n",
      "alan.comnes@enron.com 2000-12-04                      1\n",
      "                      2001-01-26                      1\n",
      "                      2001-02-03                      1\n",
      "                      2001-03-14                      1\n",
      "                      2001-06-06                      2\n",
      "                      2001-06-07                      1\n",
      "                      2001-06-22                      1\n",
      "                      2001-06-23                      1\n",
      "                      2001-07-25                      1\n",
      "Completed question 1. in 0.023263 secs.\n"
     ]
    }
   ],
   "source": [
    "t = time.clock()\n",
    "df['Day'] = df['Date'].map(lambda k: k.split(\" \")[0])\n",
    "df_qtn1 = pd.DataFrame(df.groupby(['From', 'Day'])['Date'].count())\n",
    "df_qtn1 = df_qtn1.rename(columns={'Date': 'No of emails received'})\n",
    "df_qtn1.to_csv('q1_output.csv')\n",
    "print df_qtn1.head(10)\n",
    "print \"Completed question 1. in %f secs.\" % (time.clock() - t)"
   ]
  },
  {
   "cell_type": "markdown",
   "metadata": {},
   "source": [
    "### Approach 2\n",
    "- This approach is important if the data is very large or in a HIVE table. We can easily filter the data in the query before loading it into a pandas dataframe."
   ]
  },
  {
   "cell_type": "code",
   "execution_count": 74,
   "metadata": {
    "collapsed": false
   },
   "outputs": [
    {
     "name": "stdout",
     "output_type": "stream",
     "text": [
      "                    From         Day  No of emails received\n",
      "0      40enron@enron.com  2001-08-02                      1\n",
      "1  alan.comnes@enron.com  2000-12-04                      1\n",
      "2  alan.comnes@enron.com  2001-01-26                      1\n",
      "3  alan.comnes@enron.com  2001-02-03                      1\n",
      "4  alan.comnes@enron.com  2001-03-14                      1\n",
      "5  alan.comnes@enron.com  2001-06-06                      2\n",
      "6  alan.comnes@enron.com  2001-06-07                      1\n",
      "7  alan.comnes@enron.com  2001-06-22                      1\n",
      "8  alan.comnes@enron.com  2001-06-23                      1\n",
      "9  alan.comnes@enron.com  2001-07-25                      1\n",
      "Completed question 1. in 0.037114 secs.\n"
     ]
    }
   ],
   "source": [
    "t = time.clock()\n",
    "df_qtn1 = pd.read_sql_query('SELECT \"From\", Day, count(Date) as \\'No of emails received\\' '\n",
    "                           'FROM processed_data '\n",
    "                           'group by \"From\", Day', disk_engine)\n",
    "\n",
    "df_qtn1.to_csv('q1_output_approach_2.csv')\n",
    "print df_qtn1.head(10)\n",
    "print \"Completed question 1. in %f secs.\" % (time.clock() - t)"
   ]
  },
  {
   "cell_type": "markdown",
   "metadata": {},
   "source": [
    "## Starting question 2 part-1."
   ]
  },
  {
   "cell_type": "markdown",
   "metadata": {},
   "source": [
    "### Approach 1"
   ]
  },
  {
   "cell_type": "code",
   "execution_count": 79,
   "metadata": {
    "collapsed": false
   },
   "outputs": [
    {
     "name": "stdout",
     "output_type": "stream",
     "text": [
      "                           Number of emails\n",
      "To                                         \n",
      "vkaminski@aol.com                         4\n",
      "skean@enron.com                           3\n",
      "linda.robertson@enron.com                 3\n",
      "jeff.dasovich@enron.com                   3\n",
      "charlotte@wptf.org                        2\n",
      "j.kaminski@enron.com                      2\n",
      "Completed question 1. in: 0.015271 secs.\n"
     ]
    }
   ],
   "source": [
    "t = time.clock()\n",
    "qtn2_1_df = df[df['message_type'] == 'direct']\n",
    "qtn2_1_df = qtn2_1_df[['To', 'message_type']]\n",
    "qtn2_1_df = pd.DataFrame(qtn2_1_df.groupby(['To'], sort=True).count())\n",
    "qtn2_1_df = qtn2_1_df.sort_values(['message_type'], ascending=False).head(6)\n",
    "qtn2_1_df = qtn2_1_df.rename(columns={'message_type': 'Number of emails'})\n",
    "print qtn2_1_df\n",
    "print \"Completed question 1. in: %f secs.\" % (time.clock()-t)"
   ]
  },
  {
   "cell_type": "markdown",
   "metadata": {},
   "source": [
    "### Approach 2"
   ]
  },
  {
   "cell_type": "code",
   "execution_count": 80,
   "metadata": {
    "collapsed": false
   },
   "outputs": [
    {
     "name": "stdout",
     "output_type": "stream",
     "text": [
      "                             To  No of emails\n",
      "0    maureen.mcvicker@enron.com           115\n",
      "1             vkaminski@aol.com            43\n",
      "2       jeff.dasovich@enron.com            25\n",
      "3     richard.shapiro@enron.com            23\n",
      "4   elizabeth.linnell@enron.com            18\n",
      "5  bernadette.hawkins@enron.com            17\n",
      "Completed in: 0.021925 secs.\n"
     ]
    }
   ],
   "source": [
    "t = time.clock()\n",
    "qtn2_1_df = pd.read_sql_query('SELECT \"To\", count(message_type) as \\'No of emails\\' '\n",
    "                                  'FROM processed_data '\n",
    "                                  'where message_type == \"direct\"'\n",
    "                                  'group by \"To\" order by count(message_type) DESC limit 6;', disk_engine)\n",
    "print qtn2_1_df\n",
    "print \"Completed in: %f secs.\" % (time.clock()-t)"
   ]
  },
  {
   "cell_type": "markdown",
   "metadata": {},
   "source": [
    "## Starting question 2 part-2."
   ]
  },
  {
   "cell_type": "markdown",
   "metadata": {},
   "source": [
    "### Approach 1"
   ]
  },
  {
   "cell_type": "code",
   "execution_count": 67,
   "metadata": {
    "collapsed": false
   },
   "outputs": [
    {
     "name": "stdout",
     "output_type": "stream",
     "text": [
      "                              Number of emails\n",
      "From                                          \n",
      "steven.kean@enron.com                      175\n",
      "j.kaminski@enron.com                        41\n",
      "john.shelk@enron.com                        36\n",
      "alan.comnes@enron.com                       13\n",
      "kevinscott@onlinemailbox.net                11\n",
      "michelle.cash@enron.com                     10\n",
      "Completed in: 0.019574 secs.\n"
     ]
    }
   ],
   "source": [
    "t = time.clock()\n",
    "qtn2_2_df = df[['From', 'message_type']]\n",
    "qtn2_2_df = pd.DataFrame(qtn2_2_df[qtn2_2_df['message_type'] == 'broadcast'].groupby(['From'], sort=True).count())\n",
    "qtn2_2_df = qtn2_2_df.sort_values(['message_type'], ascending=False).head(6)\n",
    "qtn2_2_df = qtn2_2_df.rename(columns={'message_type': 'Number of emails'})\n",
    "print qtn2_2_df\n",
    "print \"Completed in: %f secs.\" % (time.clock()-t)"
   ]
  },
  {
   "cell_type": "markdown",
   "metadata": {},
   "source": [
    "### Approach 2"
   ]
  },
  {
   "cell_type": "code",
   "execution_count": 81,
   "metadata": {
    "collapsed": false
   },
   "outputs": [
    {
     "name": "stdout",
     "output_type": "stream",
     "text": [
      "                          Number of emails\n",
      "From                                      \n",
      "j.kaminski@enron.com                     3\n",
      "steven.kean@enron.com                    2\n",
      "bg8862@aol.com                           1\n",
      "michelle.cash@enron.com                  1\n",
      "mike.mcconnell@enron.com                 1\n",
      "sarah.novosel@enron.com                  1\n",
      "Completed in: 0.023442 secs.\n"
     ]
    }
   ],
   "source": [
    "t = time.clock()\n",
    "qtn2_2_df = df[['From', 'message_type']]\n",
    "qtn2_2_df = pd.DataFrame(qtn2_2_df[qtn2_2_df['message_type'] == 'broadcast'].groupby(['From'], sort=True).count())\n",
    "qtn2_2_df = qtn2_2_df.sort_values(['message_type'], ascending=False).head(6)\n",
    "qtn2_2_df = qtn2_2_df.rename(columns={'message_type': 'Number of emails'})\n",
    "print qtn2_2_df\n",
    "print \"Completed in: %f secs.\" % (time.clock()-t)"
   ]
  },
  {
   "cell_type": "markdown",
   "metadata": {},
   "source": [
    "## Starting question 3."
   ]
  },
  {
   "cell_type": "code",
   "execution_count": 69,
   "metadata": {
    "collapsed": false
   },
   "outputs": [
    {
     "name": "stdout",
     "output_type": "stream",
     "text": [
      "                                      Message-ID  \\\n",
      "0   <4496770.1075842999738.JavaMail.evans@thyme>   \n",
      "1  <21343473.1075853118912.JavaMail.evans@thyme>   \n",
      "2   <2612882.1075843476998.JavaMail.evans@thyme>   \n",
      "3  <26937321.1075843427227.JavaMail.evans@thyme>   \n",
      "4  <19096180.1075853121576.JavaMail.evans@thyme>   \n",
      "\n",
      "                                             Subject  \\\n",
      "0  Fwd: Portland Consultant's Investigation Finds...   \n",
      "1                       CONFIDENTIAL Personnel issue   \n",
      "2                                         Eeegads...   \n",
      "3                   CONFIDENTIAL - Residential in CA   \n",
      "4                       CONFIDENTIAL Personnel issue   \n",
      "\n",
      "                   Sent_From                 Reply_From            Sent_date  \\\n",
      "0        mary.hain@enron.com     rcarroll@bracepatt.com  2000-10-17 02:04:00   \n",
      "1    michelle.cash@enron.com  lizzette.palmer@enron.com  2001-10-26 09:18:58   \n",
      "2     paul.kaufman@enron.com    jeff.dasovich@enron.com  2001-05-10 06:51:00   \n",
      "3      karen.denne@enron.com    jeff.dasovich@enron.com  2001-04-13 05:30:00   \n",
      "4  lizzette.palmer@enron.com    michelle.cash@enron.com  2001-10-26 09:13:36   \n",
      "\n",
      "            Reply_date  DateDiff  \n",
      "0  2000-10-17 02:07:00       179  \n",
      "1  2001-10-26 09:22:54       236  \n",
      "2  2001-05-10 06:55:00       239  \n",
      "3  2001-04-13 05:34:00       240  \n",
      "4  2001-10-26 09:18:58       321  \n",
      "Completed in: 6.105689 secs.\n"
     ]
    }
   ],
   "source": [
    "t = time.clock()\n",
    "sel_df = pd.read_sql_query(\n",
    "        'SELECT D2.\"Message-ID\", d1.Subject, d1.\"From\" as Sent_From, d2.\"From\" as Reply_From, '\n",
    "        'd1.Date as Sent_date, d2.Date as Reply_date,'\n",
    "        'Cast((julianday(d2.Date)- julianday(d1.Date))*24*60*60 as Integer) as \\'DateDiff\\' '\n",
    "        'FROM processed_data d1, processed_data d2 '\n",
    "        'where instr(d2.effective_to, d1.\"From\") > 0 and '\n",
    "        'd2.Subject like d1.Subject and '\n",
    "        'd1.Date < d2.Date and '\n",
    "        'd1.Subject not like \\'\\' and '\n",
    "        'd1.Subject not like \\'FW:\\' and '\n",
    "        'd2.Subject not like \\'\\' '\n",
    "        'order by DateDiff limit 5', disk_engine\n",
    "    )\n",
    "print sel_df\n",
    "print \"Completed in: %f secs.\" % (time.clock()-t)"
   ]
  },
  {
   "cell_type": "markdown",
   "metadata": {
    "collapsed": true
   },
   "source": [
    "# Thank you for this great interview. Looking forward to your feedback."
   ]
  }
 ],
 "metadata": {
  "kernelspec": {
   "display_name": "Python [OliRov]",
   "language": "python",
   "name": "Python [OliRov]"
  },
  "language_info": {
   "codemirror_mode": {
    "name": "ipython",
    "version": 2
   },
   "file_extension": ".py",
   "mimetype": "text/x-python",
   "name": "python",
   "nbconvert_exporter": "python",
   "pygments_lexer": "ipython2",
   "version": "2.7.11"
  }
 },
 "nbformat": 4,
 "nbformat_minor": 0
}
